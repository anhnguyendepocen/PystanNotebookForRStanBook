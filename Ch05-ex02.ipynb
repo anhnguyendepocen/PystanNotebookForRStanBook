{
 "cells": [
  {
   "cell_type": "markdown",
   "metadata": {},
   "source": [
    "## インポート"
   ]
  },
  {
   "cell_type": "code",
   "execution_count": 1,
   "metadata": {},
   "outputs": [],
   "source": [
    "import os\n",
    "import numpy as np\n",
    "import pandas as pd\n",
    "import matplotlib.pyplot as plt\n",
    "import seaborn as sns\n",
    "%matplotlib inline\n",
    "\n",
    "np.random.seed(1234)"
   ]
  },
  {
   "cell_type": "markdown",
   "metadata": {},
   "source": [
    "## データの読み込み"
   ]
  },
  {
   "cell_type": "code",
   "execution_count": 2,
   "metadata": {},
   "outputs": [
    {
     "data": {
      "text/html": [
       "<div>\n",
       "<style scoped>\n",
       "    .dataframe tbody tr th:only-of-type {\n",
       "        vertical-align: middle;\n",
       "    }\n",
       "\n",
       "    .dataframe tbody tr th {\n",
       "        vertical-align: top;\n",
       "    }\n",
       "\n",
       "    .dataframe thead th {\n",
       "        text-align: right;\n",
       "    }\n",
       "</style>\n",
       "<table border=\"1\" class=\"dataframe\">\n",
       "  <thead>\n",
       "    <tr style=\"text-align: right;\">\n",
       "      <th></th>\n",
       "      <th>A</th>\n",
       "      <th>Score</th>\n",
       "      <th>Y</th>\n",
       "    </tr>\n",
       "  </thead>\n",
       "  <tbody>\n",
       "    <tr>\n",
       "      <th>0</th>\n",
       "      <td>0</td>\n",
       "      <td>69</td>\n",
       "      <td>0.286</td>\n",
       "    </tr>\n",
       "    <tr>\n",
       "      <th>1</th>\n",
       "      <td>1</td>\n",
       "      <td>145</td>\n",
       "      <td>0.196</td>\n",
       "    </tr>\n",
       "    <tr>\n",
       "      <th>2</th>\n",
       "      <td>0</td>\n",
       "      <td>125</td>\n",
       "      <td>0.261</td>\n",
       "    </tr>\n",
       "    <tr>\n",
       "      <th>3</th>\n",
       "      <td>1</td>\n",
       "      <td>86</td>\n",
       "      <td>0.109</td>\n",
       "    </tr>\n",
       "    <tr>\n",
       "      <th>4</th>\n",
       "      <td>1</td>\n",
       "      <td>158</td>\n",
       "      <td>0.230</td>\n",
       "    </tr>\n",
       "  </tbody>\n",
       "</table>\n",
       "</div>"
      ],
      "text/plain": [
       "   A  Score      Y\n",
       "0  0     69  0.286\n",
       "1  1    145  0.196\n",
       "2  0    125  0.261\n",
       "3  1     86  0.109\n",
       "4  1    158  0.230"
      ]
     },
     "execution_count": 2,
     "metadata": {},
     "output_type": "execute_result"
    }
   ],
   "source": [
    "df = pd.read_csv('chap05/input/data-attendance-1.txt')\n",
    "df.head()"
   ]
  },
  {
   "cell_type": "markdown",
   "metadata": {},
   "source": [
    "## モデル式の記述\n",
    "\n",
    "$\\mu[n] = \\beta_1 + \\beta_2 A[n] + \\beta_3 Score[n] $\n",
    "\n",
    "$Y[n]$ ~ $ Normal( \\mu[n], \\sigma )$"
   ]
  },
  {
   "cell_type": "markdown",
   "metadata": {},
   "source": [
    "## Stanでの実装"
   ]
  },
  {
   "cell_type": "code",
   "execution_count": 9,
   "metadata": {},
   "outputs": [
    {
     "name": "stderr",
     "output_type": "stream",
     "text": [
      "INFO:pystan:COMPILING THE C++ CODE FOR MODEL anon_model_d0d7a2793aebf17a8db26573daf4d5ed NOW.\n"
     ]
    },
    {
     "data": {
      "text/plain": [
       "Inference for Stan model: anon_model_d0d7a2793aebf17a8db26573daf4d5ed.\n",
       "4 chains, each with iter=2000; warmup=1000; thin=1; \n",
       "post-warmup draws per chain=1000, total post-warmup draws=4000.\n",
       "\n",
       "              mean se_mean     sd   2.5%    25%    50%    75%  97.5%  n_eff   Rhat\n",
       "b1            0.12  8.3e-4   0.03   0.05    0.1   0.12   0.15   0.19   1718    1.0\n",
       "b2           -0.14  3.0e-4   0.01  -0.17  -0.15  -0.14  -0.13  -0.11   2538    1.0\n",
       "b3            0.32  1.3e-3   0.05   0.22   0.29   0.32   0.36   0.43   1730    1.0\n",
       "sigma         0.05  1.1e-4 5.6e-3   0.04   0.05   0.05   0.06   0.06   2385    1.0\n",
       "mu[0]         0.24  4.0e-4   0.02    0.2   0.22   0.24   0.25   0.27   1865    1.0\n",
       "mu[1]         0.22  2.6e-4   0.01   0.19   0.21   0.22   0.22   0.24   2579    1.0\n",
       "mu[2]         0.33  1.7e-4 9.7e-3   0.31   0.32   0.33   0.33   0.35   3287    1.0\n",
       "mu[3]         0.12  3.2e-4   0.02   0.09   0.11   0.12   0.13   0.15   2344    1.0\n",
       "mu[4]         0.24  3.2e-4   0.02   0.21   0.23   0.24   0.25   0.27   2289    1.0\n",
       "mu[5]         0.34  1.8e-4   0.01   0.32   0.33   0.34   0.35   0.36   3258    1.0\n",
       "mu[6]          0.3  1.9e-4   0.01   0.28    0.3    0.3   0.31   0.32   2858    1.0\n",
       "mu[7]         0.22  2.7e-4   0.01   0.19   0.21   0.22   0.23   0.24   2527    1.0\n",
       "mu[8]         0.36  2.2e-4   0.01   0.34   0.35   0.36   0.37   0.38   2916    1.0\n",
       "mu[9]         0.36  2.1e-4   0.01   0.34   0.35   0.36   0.37   0.38   2945    1.0\n",
       "mu[10]        0.21  2.5e-4   0.01   0.18    0.2   0.21   0.22   0.23   2687    1.0\n",
       "mu[11]        0.35  1.9e-4   0.01   0.32   0.34   0.35   0.35   0.37   3171    1.0\n",
       "mu[12]        0.17  2.1e-4   0.01   0.15   0.16   0.17   0.18   0.19   3014    1.0\n",
       "mu[13]         0.3  1.9e-4   0.01   0.28    0.3    0.3   0.31   0.32   2858    1.0\n",
       "mu[14]         0.3  2.0e-4   0.01   0.28   0.29    0.3   0.31   0.32   2748    1.0\n",
       "mu[15]        0.14  2.6e-4   0.01   0.11   0.13   0.14   0.15   0.17   2620    1.0\n",
       "mu[16]        0.31  1.8e-4 9.9e-3   0.29    0.3   0.31   0.32   0.33   2977    1.0\n",
       "mu[17]        0.26  3.3e-4   0.01   0.23   0.25   0.26   0.27   0.29   1988    1.0\n",
       "mu[18]        0.42  4.3e-4   0.02   0.38   0.41   0.42   0.44   0.46   2120    1.0\n",
       "mu[19]        0.23  3.1e-4   0.01    0.2   0.22   0.23   0.24   0.26   2326    1.0\n",
       "mu[20]        0.12  3.2e-4   0.02   0.09   0.11   0.12   0.13   0.15   2344    1.0\n",
       "mu[21]        0.16  2.3e-4   0.01   0.13   0.15   0.16   0.16   0.18   2842    1.0\n",
       "mu[22]        0.15  2.4e-4   0.01   0.13   0.14   0.15   0.16   0.18   2794    1.0\n",
       "mu[23]        0.21  2.5e-4   0.01   0.19    0.2   0.21   0.22   0.24   2632    1.0\n",
       "mu[24]        0.17  2.2e-4   0.01   0.15   0.16   0.17   0.18   0.19   3004    1.0\n",
       "mu[25]        0.19  2.2e-4   0.01   0.16   0.18   0.19    0.2   0.21   2981    1.0\n",
       "mu[26]        0.32  1.7e-4 9.7e-3    0.3   0.31   0.32   0.32   0.34   3156    1.0\n",
       "mu[27]        0.32  1.7e-4 9.7e-3    0.3   0.31   0.32   0.32   0.34   3156    1.0\n",
       "mu[28]        0.39  2.9e-4   0.01   0.36   0.38   0.39   0.39   0.41   2457    1.0\n",
       "mu[29]        0.31  1.8e-410.0e-3   0.29    0.3   0.31   0.31   0.33   2937    1.0\n",
       "mu[30]        0.25  3.5e-4   0.02   0.22   0.24   0.25   0.26   0.28   2177    1.0\n",
       "mu[31]         0.1  3.8e-4   0.02   0.07   0.09    0.1   0.11   0.13   2170    1.0\n",
       "mu[32]         0.2  2.4e-4   0.01   0.18    0.2    0.2   0.21   0.23   2768    1.0\n",
       "mu[33]        0.18  2.1e-4   0.01   0.16   0.17   0.18   0.19    0.2   3022    1.0\n",
       "mu[34]        0.33  1.7e-4 9.7e-3   0.31   0.32   0.33   0.33   0.35   3297    1.0\n",
       "mu[35]        0.34  1.7e-410.0e-3   0.32   0.33   0.34   0.34   0.36   3286    1.0\n",
       "mu[36]        0.15  2.4e-4   0.01   0.13   0.14   0.15   0.16   0.18   2769    1.0\n",
       "mu[37]         0.3  1.9e-4   0.01   0.28    0.3    0.3   0.31   0.32   2819    1.0\n",
       "mu[38]        0.27  2.9e-4   0.01   0.24   0.26   0.27   0.28   0.29   2099    1.0\n",
       "mu[39]        0.27  2.9e-4   0.01   0.24   0.26   0.27   0.28   0.29   2081    1.0\n",
       "mu[40]        0.33  1.7e-4 9.9e-3   0.31   0.33   0.33   0.34   0.35   3301    1.0\n",
       "mu[41]        0.34  1.8e-4   0.01   0.32   0.33   0.34   0.35   0.36   3258    1.0\n",
       "mu[42]        0.32  1.7e-4 9.7e-3    0.3   0.32   0.32   0.33   0.34   3237    1.0\n",
       "mu[43]        0.36  2.2e-4   0.01   0.34   0.36   0.36   0.37   0.39   2859    1.0\n",
       "mu[44]        0.42  4.1e-4   0.02   0.38   0.41   0.42   0.43   0.46   2147    1.0\n",
       "mu[45]        0.29  2.1e-4   0.01   0.27   0.29   0.29    0.3   0.32   2570    1.0\n",
       "mu[46]        0.21  5.1e-4   0.02   0.16   0.19   0.21   0.22   0.25   1783    1.0\n",
       "mu[47]        0.37  2.4e-4   0.01   0.34   0.36   0.37   0.38   0.39   2753    1.0\n",
       "mu[48]        0.28  2.4e-4   0.01   0.26   0.28   0.28   0.29   0.31   2349    1.0\n",
       "mu[49]        0.14  2.6e-4   0.01   0.11   0.13   0.14   0.15   0.17   2620    1.0\n",
       "y_pred[0]     0.24  9.4e-4   0.06   0.13    0.2   0.24   0.27   0.34   3497    1.0\n",
       "y_pred[1]     0.21  8.6e-4   0.05   0.11   0.18   0.21   0.25   0.32   4000    1.0\n",
       "y_pred[2]     0.33  8.3e-4   0.05   0.22   0.29   0.33   0.36   0.43   4000    1.0\n",
       "y_pred[3]     0.12  8.8e-4   0.05 9.4e-3   0.08   0.12   0.16   0.22   3786    1.0\n",
       "y_pred[4]     0.24  9.2e-4   0.05   0.13    0.2   0.24   0.27   0.35   3528    1.0\n",
       "y_pred[5]     0.34  9.0e-4   0.05   0.24    0.3   0.34   0.37   0.44   3395    1.0\n",
       "y_pred[6]      0.3  8.6e-4   0.05    0.2   0.27    0.3   0.34   0.41   3795    1.0\n",
       "y_pred[7]     0.22  8.8e-4   0.05   0.11   0.18   0.22   0.25   0.32   3716    1.0\n",
       "y_pred[8]     0.36  8.6e-4   0.05   0.26   0.32   0.36    0.4   0.46   3747    1.0\n",
       "y_pred[9]     0.36  9.0e-4   0.05   0.25   0.32   0.36   0.39   0.46   3535    1.0\n",
       "y_pred[10]    0.21  8.6e-4   0.05    0.1   0.17   0.21   0.24   0.31   3943    1.0\n",
       "y_pred[11]    0.35  8.3e-4   0.05   0.24   0.31   0.35   0.38   0.45   4000    1.0\n",
       "y_pred[12]    0.17  8.5e-4   0.05   0.07   0.13   0.17   0.21   0.28   4000    1.0\n",
       "y_pred[13]     0.3  8.4e-4   0.05    0.2   0.27    0.3   0.34    0.4   4000    1.0\n",
       "y_pred[14]     0.3  8.6e-4   0.05   0.19   0.27    0.3   0.34   0.41   3869    1.0\n",
       "y_pred[15]    0.14  8.5e-4   0.05   0.03    0.1   0.14   0.18   0.25   4000    1.0\n",
       "y_pred[16]    0.31  8.5e-4   0.05   0.21   0.27   0.31   0.34   0.41   3864    1.0\n",
       "y_pred[17]    0.26  8.7e-4   0.05   0.15   0.22   0.26   0.29   0.36   3802    1.0\n",
       "y_pred[18]    0.42  9.7e-4   0.06   0.31   0.39   0.43   0.46   0.53   3333    1.0\n",
       "y_pred[19]    0.23  8.9e-4   0.05   0.13    0.2   0.23   0.27   0.34   3665    1.0\n",
       "y_pred[20]    0.12  9.3e-4   0.05 9.5e-3   0.08   0.12   0.15   0.23   3510    1.0\n",
       "y_pred[21]    0.15  8.5e-4   0.05   0.05   0.12   0.15   0.19   0.26   4000    1.0\n",
       "y_pred[22]    0.15  8.5e-4   0.05   0.05   0.12   0.15   0.19   0.26   3922    1.0\n",
       "y_pred[23]    0.21  8.6e-4   0.05    0.1   0.18   0.21   0.25   0.32   3834    1.0\n",
       "y_pred[24]    0.17  8.7e-4   0.05   0.07   0.13   0.17    0.2   0.28   3838    1.0\n",
       "y_pred[25]    0.19  8.9e-4   0.05   0.08   0.15   0.19   0.22   0.29   3821    1.0\n",
       "y_pred[26]    0.32  8.4e-4   0.05   0.21   0.28   0.32   0.35   0.42   4000    1.0\n",
       "y_pred[27]    0.32  8.3e-4   0.05   0.21   0.28   0.31   0.35   0.42   4000    1.0\n",
       "y_pred[28]    0.38  9.2e-4   0.05   0.28   0.35   0.39   0.42   0.49   3467    1.0\n",
       "y_pred[29]    0.31  8.4e-4   0.05    0.2   0.27   0.31   0.34   0.41   4000    1.0\n",
       "y_pred[30]    0.25  9.0e-4   0.05   0.14   0.21   0.25   0.28   0.35   3546    1.0\n",
       "y_pred[31]     0.1  8.8e-4   0.06  -0.01   0.06    0.1   0.14   0.21   4000    1.0\n",
       "y_pred[32]     0.2  8.7e-4   0.05    0.1   0.17    0.2   0.24   0.31   3880    1.0\n",
       "y_pred[33]    0.18  8.4e-4   0.05   0.08   0.15   0.18   0.22   0.29   3986    1.0\n",
       "y_pred[34]    0.33  8.7e-4   0.05   0.22   0.29   0.33   0.36   0.43   3677    1.0\n",
       "y_pred[35]    0.34  8.4e-4   0.05   0.23    0.3   0.34   0.37   0.44   3885    1.0\n",
       "y_pred[36]    0.15  8.4e-4   0.05   0.04   0.12   0.15   0.18   0.25   3974    1.0\n",
       "y_pred[37]     0.3  8.4e-4   0.05    0.2   0.27    0.3   0.34   0.41   4000    1.0\n",
       "y_pred[38]    0.27  8.6e-4   0.05   0.16   0.23   0.27    0.3   0.38   4000    1.0\n",
       "y_pred[39]    0.27  9.4e-4   0.05   0.16   0.23   0.27    0.3   0.37   3312    1.0\n",
       "y_pred[40]    0.33  8.3e-4   0.05   0.23    0.3   0.33   0.37   0.43   4000    1.0\n",
       "y_pred[41]    0.34  8.3e-4   0.05   0.23   0.31   0.34   0.38   0.45   4000    1.0\n",
       "y_pred[42]    0.32  8.4e-4   0.05   0.22   0.29   0.32   0.36   0.43   4000    1.0\n",
       "y_pred[43]    0.36  8.5e-4   0.05   0.26   0.33   0.36    0.4   0.47   4000    1.0\n",
       "y_pred[44]    0.42  9.3e-4   0.05   0.31   0.38   0.42   0.46   0.53   3470    1.0\n",
       "y_pred[45]    0.29  8.3e-4   0.05   0.19   0.26   0.29   0.33    0.4   4000    1.0\n",
       "y_pred[46]    0.21  9.8e-4   0.06   0.09   0.17   0.21   0.24   0.32   3407    1.0\n",
       "y_pred[47]    0.37  8.5e-4   0.05   0.26   0.33   0.37    0.4   0.47   3972    1.0\n",
       "y_pred[48]    0.28  8.6e-4   0.05   0.18   0.25   0.29   0.32   0.39   3695    1.0\n",
       "y_pred[49]    0.14  8.7e-4   0.05   0.04    0.1   0.14   0.18   0.25   3734    1.0\n",
       "epsilon[0] -5.2e-4  8.4e-4   0.05  -0.11  -0.04 2.4e-4   0.04    0.1   4000    1.0\n",
       "epsilon[1] -1.3e-3  8.3e-4   0.05   -0.1  -0.04-5.5e-4   0.03    0.1   4000    1.0\n",
       "epsilon[2]  1.9e-4  8.2e-4   0.05   -0.1  -0.04 5.0e-4   0.04    0.1   4000    1.0\n",
       "epsilon[3] -7.6e-4  8.2e-4   0.05   -0.1  -0.04 8.7e-4   0.03    0.1   4000    1.0\n",
       "epsilon[4]  6.3e-4  8.6e-4   0.05   -0.1  -0.03 6.1e-4   0.04    0.1   3747    1.0\n",
       "epsilon[5] -2.4e-4  8.5e-4   0.05   -0.1  -0.03 1.0e-3   0.03    0.1   3660    1.0\n",
       "epsilon[6]  6.1e-4  8.4e-4   0.05   -0.1  -0.03 1.2e-3   0.04    0.1   3832    1.0\n",
       "epsilon[7] -4.6e-4  8.3e-4   0.05   -0.1  -0.03 1.4e-4   0.03    0.1   3868    1.0\n",
       "epsilon[8] -5.1e-4  8.2e-4   0.05   -0.1  -0.04-5.9e-4   0.03    0.1   3881    1.0\n",
       "epsilon[9] -6.6e-4  8.7e-4   0.05   -0.1  -0.03-1.5e-3   0.03    0.1   3581    1.0\n",
       "epsilon[10]-1.8e-3  8.4e-4   0.05   -0.1  -0.04-1.4e-3   0.03    0.1   3942    1.0\n",
       "epsilon[11] 1.1e-4  8.2e-4   0.05   -0.1  -0.03-3.6e-4   0.03    0.1   4000    1.0\n",
       "epsilon[12]-9.9e-4  8.3e-4   0.05   -0.1  -0.04-1.8e-3   0.03    0.1   4000    1.0\n",
       "epsilon[13]-6.7e-4  8.2e-4   0.05  -0.11  -0.03-7.2e-4   0.03    0.1   4000    1.0\n",
       "epsilon[14]-4.3e-4  8.4e-4   0.05  -0.11  -0.03-3.0e-4   0.03    0.1   3953    1.0\n",
       "epsilon[15]-4.2e-4  8.2e-4   0.05  -0.11  -0.03 5.5e-4   0.03    0.1   4000    1.0\n",
       "epsilon[16]-2.6e-4  8.2e-4   0.05   -0.1  -0.04 1.6e-4   0.03    0.1   4000    1.0\n",
       "epsilon[17] 5.1e-4  8.2e-4   0.05   -0.1  -0.03-5.8e-4   0.04    0.1   4000    1.0\n",
       "epsilon[18] 3.1e-4  8.3e-4   0.05   -0.1  -0.03 4.6e-4   0.03   0.11   4000    1.0\n",
       "epsilon[19] 5.6e-4  8.3e-4   0.05   -0.1  -0.03 4.5e-4   0.03   0.11   3853    1.0\n",
       "epsilon[20]-1.2e-4  8.3e-4   0.05  -0.11  -0.04 3.1e-4   0.04    0.1   4000    1.0\n",
       "epsilon[21]-1.5e-3  8.3e-4   0.05  -0.11  -0.04-4.4e-4   0.03    0.1   4000    1.0\n",
       "epsilon[22]-4.5e-4  8.2e-4   0.05   -0.1  -0.04-9.7e-5   0.03    0.1   3993    1.0\n",
       "epsilon[23]-4.7e-4  8.2e-4   0.05   -0.1  -0.04-8.0e-5   0.03    0.1   3975    1.0\n",
       "epsilon[24] 1.7e-4  8.4e-4   0.05   -0.1  -0.03 1.3e-3   0.03   0.11   3888    1.0\n",
       "epsilon[25]-8.6e-4  8.4e-4   0.05  -0.11  -0.03-2.3e-5   0.03    0.1   4000    1.0\n",
       "epsilon[26] 4.1e-4  8.3e-4   0.05   -0.1  -0.03-3.2e-4   0.03   0.11   4000    1.0\n",
       "epsilon[27]-9.2e-4  8.2e-4   0.05   -0.1  -0.03-1.3e-3   0.03    0.1   4000    1.0\n",
       "epsilon[28]-3.3e-4  8.7e-4   0.05   -0.1  -0.04 1.1e-4   0.03    0.1   3613    1.0\n",
       "epsilon[29]-2.2e-4  8.3e-4   0.05   -0.1  -0.03-1.0e-4   0.03    0.1   4000    1.0\n",
       "epsilon[30]-1.7e-3  8.4e-4   0.05   -0.1  -0.04-7.8e-4   0.03    0.1   3761    1.0\n",
       "epsilon[31] 1.5e-3  8.4e-4   0.05   -0.1  -0.03 2.2e-3   0.04    0.1   4000    1.0\n",
       "epsilon[32]-4.6e-4  8.4e-4   0.05  -0.11  -0.04 2.8e-4   0.04    0.1   3940    1.0\n",
       "epsilon[33] 7.6e-4  8.2e-4   0.05   -0.1  -0.03-4.3e-4   0.04    0.1   4000    1.0\n",
       "epsilon[34]-2.4e-4  8.4e-4   0.05   -0.1  -0.03 5.9e-4   0.03    0.1   3765    1.0\n",
       "epsilon[35]-1.0e-3  8.2e-4   0.05   -0.1  -0.03-1.4e-3   0.03    0.1   3922    1.0\n",
       "epsilon[36]-5.8e-4  8.2e-4   0.05   -0.1  -0.03-1.3e-3   0.03    0.1   4000    1.0\n",
       "epsilon[37]-3.5e-5  8.3e-4   0.05   -0.1  -0.03-5.8e-5   0.03   0.11   4000    1.0\n",
       "epsilon[38]-3.6e-5  8.3e-4   0.05  -0.11  -0.03 8.3e-4   0.03    0.1   4000    1.0\n",
       "epsilon[39]-5.5e-4  8.4e-4   0.05  -0.11  -0.03-8.1e-4   0.03    0.1   3908    1.0\n",
       "epsilon[40]-1.2e-3  8.2e-4   0.05   -0.1  -0.04-2.0e-3   0.03    0.1   4000    1.0\n",
       "epsilon[41] 5.7e-4  8.1e-4   0.05   -0.1  -0.03 4.1e-4   0.03    0.1   4000    1.0\n",
       "epsilon[42]-2.0e-4  8.3e-4   0.05   -0.1  -0.04 1.1e-4   0.04    0.1   4000    1.0\n",
       "epsilon[43]-2.5e-4  8.3e-4   0.05   -0.1  -0.04-1.5e-3   0.03    0.1   4000    1.0\n",
       "epsilon[44] 4.5e-4  8.4e-4   0.05   -0.1  -0.03 3.5e-4   0.04    0.1   3813    1.0\n",
       "epsilon[45] 3.4e-4  8.1e-4   0.05   -0.1  -0.03 4.6e-4   0.03    0.1   4000    1.0\n",
       "epsilon[46]-8.4e-4  8.5e-4   0.05  -0.11  -0.04-4.0e-4   0.04    0.1   3843    1.0\n",
       "epsilon[47]-6.3e-4  8.2e-4   0.05   -0.1  -0.04-1.1e-3   0.03    0.1   4000    1.0\n",
       "epsilon[48] 4.8e-4  8.1e-4   0.05   -0.1  -0.03 9.4e-4   0.04    0.1   4000    1.0\n",
       "epsilon[49] 6.5e-4  8.2e-4   0.05   -0.1  -0.03-7.4e-4   0.04    0.1   3945    1.0\n",
       "lp__         120.8    0.04    1.5 116.93 120.05 121.12  121.9 122.68   1416    1.0\n",
       "\n",
       "Samples were drawn using NUTS at Thu May  3 07:03:26 2018.\n",
       "For each parameter, n_eff is a crude measure of effective sample size,\n",
       "and Rhat is the potential scale reduction factor on split chains (at \n",
       "convergence, Rhat=1)."
      ]
     },
     "execution_count": 9,
     "metadata": {},
     "output_type": "execute_result"
    }
   ],
   "source": [
    "model_code=\"\"\"\n",
    "data {\n",
    "  int N;\n",
    "  int<lower=0, upper=1> A[N];\n",
    "  real<lower=0, upper=1> Score[N];\n",
    "  real<lower=0, upper=1> Y[N];\n",
    "}\n",
    "parameters {\n",
    "  real b1;\n",
    "  real b2;\n",
    "  real b3;\n",
    "  real<lower=0> sigma;\n",
    "}\n",
    "transformed parameters {\n",
    "  real mu[N];\n",
    "  for (n in 1:N)\n",
    "    mu[n] = b1 + b2*A[n] + b3*Score[n];\n",
    "}\n",
    "model {\n",
    "  for (n in 1:N)\n",
    "    Y[n] ~ normal(mu[n], sigma);\n",
    "}\n",
    "generated quantities {\n",
    "  real y_pred[N];\n",
    "  real epsilon[N];\n",
    "  for (n in 1:N) {\n",
    "    y_pred[n] = normal_rng(mu[n], sigma);\n",
    "    epsilon[n] = y_pred[n] - mu[n];  \n",
    "  }\n",
    "}\n",
    "\"\"\"\n",
    "\n",
    "from pystan import StanModel\n",
    "data = dict(N=df.shape[0], A=df.A, Score=df.Score/200, Y=df.Y)\n",
    "sm = StanModel(model_code=model_code)\n",
    "\n",
    "fit = sm.sampling(data=data, n_jobs=1, seed=123)\n",
    "fit"
   ]
  },
  {
   "cell_type": "code",
   "execution_count": 24,
   "metadata": {},
   "outputs": [
    {
     "data": {
      "text/plain": [
       "(4000, 50)"
      ]
     },
     "execution_count": 24,
     "metadata": {},
     "output_type": "execute_result"
    }
   ],
   "source": [
    "ms = fit.extract()\n",
    "ms['epsilon'].shape"
   ]
  },
  {
   "cell_type": "code",
   "execution_count": 31,
   "metadata": {},
   "outputs": [
    {
     "data": {
      "text/plain": [
       "<matplotlib.axes._subplots.AxesSubplot at 0xd097208>"
      ]
     },
     "execution_count": 31,
     "metadata": {},
     "output_type": "execute_result"
    },
    {
     "data": {
      "image/png": "[encoded data removed]",
      "text/plain": [
       "<matplotlib.figure.Figure at 0xe995f98>"
      ]
     },
     "metadata": {},
     "output_type": "display_data"
    }
   ],
   "source": [
    "# 全サンプリングを区別せずにプロット\n",
    "sns.distplot(ms['epsilon'].flatten())"
   ]
  },
  {
   "cell_type": "code",
   "execution_count": 26,
   "metadata": {},
   "outputs": [
    {
     "data": {
      "image/png": "[encoded data removed]",
      "text/plain": [
       "<matplotlib.figure.Figure at 0xfadf320>"
      ]
     },
     "metadata": {},
     "output_type": "display_data"
    }
   ],
   "source": [
    "# 全サンプリングをIDごとに区別してプロット\n",
    "for i in range(ms['epsilon'].shape[1]):\n",
    "    sns.distplot(ms['epsilon'][:,i], hist=False)"
   ]
  },
  {
   "cell_type": "code",
   "execution_count": 30,
   "metadata": {},
   "outputs": [
    {
     "data": {
      "text/plain": [
       "<matplotlib.axes._subplots.AxesSubplot at 0xe5f3c88>"
      ]
     },
     "execution_count": 30,
     "metadata": {},
     "output_type": "execute_result"
    },
    {
     "data": {
      "image/png": "[encoded data removed]",
      "text/plain": [
       "<matplotlib.figure.Figure at 0xfe50240>"
      ]
     },
     "metadata": {},
     "output_type": "display_data"
    }
   ],
   "source": [
    "# サンプリングの平均値のヒストグラム\n",
    "sns.distplot(ms['epsilon'].mean(axis=0))"
   ]
  }
 ],
 "metadata": {
  "kernelspec": {
   "display_name": "Python 3",
   "language": "python",
   "name": "python3"
  },
  "language_info": {
   "codemirror_mode": {
    "name": "ipython",
    "version": 3
   },
   "file_extension": ".py",
   "mimetype": "text/x-python",
   "name": "python",
   "nbconvert_exporter": "python",
   "pygments_lexer": "ipython3",
   "version": "3.6.0"
  }
 },
 "nbformat": 4,
 "nbformat_minor": 2
}
