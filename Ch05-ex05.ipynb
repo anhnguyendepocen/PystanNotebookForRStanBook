{
 "cells": [
  {
   "cell_type": "markdown",
   "metadata": {},
   "source": [
    "## インポート"
   ]
  },
  {
   "cell_type": "code",
   "execution_count": 1,
   "metadata": {},
   "outputs": [],
   "source": [
    "import os\n",
    "import numpy as np\n",
    "import pandas as pd\n",
    "import matplotlib.pyplot as plt\n",
    "import seaborn as sns\n",
    "%matplotlib inline\n",
    "\n",
    "np.random.seed(1234)"
   ]
  },
  {
   "cell_type": "markdown",
   "metadata": {},
   "source": [
    "## データの読み込み"
   ]
  },
  {
   "cell_type": "code",
   "execution_count": 2,
   "metadata": {},
   "outputs": [
    {
     "data": {
      "text/html": [
       "<div>\n",
       "<style scoped>\n",
       "    .dataframe tbody tr th:only-of-type {\n",
       "        vertical-align: middle;\n",
       "    }\n",
       "\n",
       "    .dataframe tbody tr th {\n",
       "        vertical-align: top;\n",
       "    }\n",
       "\n",
       "    .dataframe thead th {\n",
       "        text-align: right;\n",
       "    }\n",
       "</style>\n",
       "<table border=\"1\" class=\"dataframe\">\n",
       "  <thead>\n",
       "    <tr style=\"text-align: right;\">\n",
       "      <th></th>\n",
       "      <th>PersonID</th>\n",
       "      <th>A</th>\n",
       "      <th>Score</th>\n",
       "      <th>M</th>\n",
       "      <th>Y</th>\n",
       "    </tr>\n",
       "  </thead>\n",
       "  <tbody>\n",
       "    <tr>\n",
       "      <th>0</th>\n",
       "      <td>1</td>\n",
       "      <td>0</td>\n",
       "      <td>69</td>\n",
       "      <td>43</td>\n",
       "      <td>38</td>\n",
       "    </tr>\n",
       "    <tr>\n",
       "      <th>1</th>\n",
       "      <td>2</td>\n",
       "      <td>1</td>\n",
       "      <td>145</td>\n",
       "      <td>56</td>\n",
       "      <td>40</td>\n",
       "    </tr>\n",
       "    <tr>\n",
       "      <th>2</th>\n",
       "      <td>3</td>\n",
       "      <td>0</td>\n",
       "      <td>125</td>\n",
       "      <td>32</td>\n",
       "      <td>24</td>\n",
       "    </tr>\n",
       "    <tr>\n",
       "      <th>3</th>\n",
       "      <td>4</td>\n",
       "      <td>1</td>\n",
       "      <td>86</td>\n",
       "      <td>45</td>\n",
       "      <td>33</td>\n",
       "    </tr>\n",
       "    <tr>\n",
       "      <th>4</th>\n",
       "      <td>5</td>\n",
       "      <td>1</td>\n",
       "      <td>158</td>\n",
       "      <td>33</td>\n",
       "      <td>23</td>\n",
       "    </tr>\n",
       "  </tbody>\n",
       "</table>\n",
       "</div>"
      ],
      "text/plain": [
       "   PersonID  A  Score   M   Y\n",
       "0         1  0     69  43  38\n",
       "1         2  1    145  56  40\n",
       "2         3  0    125  32  24\n",
       "3         4  1     86  45  33\n",
       "4         5  1    158  33  23"
      ]
     },
     "execution_count": 2,
     "metadata": {},
     "output_type": "execute_result"
    }
   ],
   "source": [
    "df = pd.read_csv('chap05/input/data-attendance-2.txt')\n",
    "df.head()"
   ]
  },
  {
   "cell_type": "markdown",
   "metadata": {},
   "source": [
    "## モデル式の記述\n",
    "\n",
    "$\\lambda[n] = \\exp(\\beta_1 + \\beta_2 A[n] + \\beta_3 Score[n]) $\n",
    "\n",
    "$M[n]$ ~ $ Poirsson( \\lambda[n] )$"
   ]
  },
  {
   "cell_type": "markdown",
   "metadata": {},
   "source": [
    "## Stanでの実装"
   ]
  },
  {
   "cell_type": "code",
   "execution_count": 3,
   "metadata": {},
   "outputs": [
    {
     "name": "stderr",
     "output_type": "stream",
     "text": [
      "INFO:pystan:COMPILING THE C++ CODE FOR MODEL anon_model_150bf7d9aaeff585eb332c7a581df661 NOW.\n"
     ]
    },
    {
     "data": {
      "text/plain": [
       "Inference for Stan model: anon_model_150bf7d9aaeff585eb332c7a581df661.\n",
       "4 chains, each with iter=2000; warmup=1000; thin=1; \n",
       "post-warmup draws per chain=1000, total post-warmup draws=4000.\n",
       "\n",
       "             mean se_mean     sd   2.5%    25%    50%    75%  97.5%  n_eff   Rhat\n",
       "b1           3.58  2.5e-3    0.1   3.39   3.51   3.58   3.64   3.77   1449    1.0\n",
       "b2           0.26  9.8e-4   0.04   0.18   0.24   0.26   0.29   0.35   1853    1.0\n",
       "b3           0.29  3.9e-3   0.15  -0.01   0.19   0.29   0.39   0.57   1480    1.0\n",
       "lambda[0]   39.62    0.05   1.96  35.94  38.28  39.57  40.86  43.67   1534    1.0\n",
       "lambda[1]   57.53    0.04   1.99  53.71  56.21  57.54  58.83  61.59   2005    1.0\n",
       "lambda[2]   42.91    0.02   1.22  40.61  42.09  42.92  43.71  45.34   2748    1.0\n",
       "lambda[3]   52.85    0.05   2.18   48.7  51.34  52.83  54.27  57.36   1926    1.0\n",
       "lambda[4]   58.63    0.06   2.35  54.05  57.06  58.62  60.15   63.4   1809    1.0\n",
       "lambda[5]   43.41    0.02   1.27  40.99  42.54   43.4  44.28  45.95   2799    1.0\n",
       "lambda[6]   42.06    0.03   1.25  39.67  41.22  42.03  42.88  44.52   2066    1.0\n",
       "lambda[7]    57.7    0.05   2.04  53.77  56.35  57.72  59.03  61.85   1969    1.0\n",
       "lambda[8]   44.24    0.03   1.46  41.45  43.25  44.21  45.24  47.13   2582    1.0\n",
       "lambda[9]   44.17    0.03   1.44  41.42   43.2  44.14  45.15  47.04   2605    1.0\n",
       "lambda[10]   57.2    0.04    1.9  53.55  55.94   57.2  58.42  61.11   2082    1.0\n",
       "lambda[11]  43.66    0.03   1.32  41.14  42.77  43.64  44.56  46.26   2759    1.0\n",
       "lambda[12]  55.33    0.03    1.7  51.98  54.17  55.32  56.47   58.7   2363    1.0\n",
       "lambda[13]  42.06    0.03   1.25  39.67  41.22  42.03  42.88  44.52   2066    1.0\n",
       "lambda[14]  41.94    0.03   1.27   39.5   41.1  41.91  42.77  44.45   2022    1.0\n",
       "lambda[15]  53.84    0.04   1.91  50.12  52.54  53.81  55.14  57.68   2116    1.0\n",
       "lambda[16]  42.24    0.03   1.23  39.88  41.42  42.22  43.06  44.66   2132    1.0\n",
       "lambda[17]  40.35    0.04   1.69  37.17  39.24  40.31  41.42  43.82   1627    1.0\n",
       "lambda[18]  46.84    0.06   2.53  41.94   45.1  46.84  48.51  51.94   1848    1.0\n",
       "lambda[19]  58.46    0.05   2.29  54.02  56.95  58.45  59.91   63.1   1833    1.0\n",
       "lambda[20]  52.85    0.05   2.18   48.7  51.34  52.83  54.27  57.36   1926    1.0\n",
       "lambda[21]  54.54    0.04   1.77  51.06  53.33  54.51  55.73  58.05   2262    1.0\n",
       "lambda[22]  54.38    0.04    1.8  50.88  53.16  54.35  55.61  57.96   2231    1.0\n",
       "lambda[23]  57.36    0.04   1.94  53.65  56.07  57.37  58.64  61.33   2043    1.0\n",
       "lambda[24]  55.25    0.04    1.7   51.9  54.09  55.24   56.4  58.63   2359    1.0\n",
       "lambda[25]  56.13    0.04   1.72  52.74  54.99  56.11  57.26  59.61   2318    1.0\n",
       "lambda[26]  42.54    0.02   1.21  40.21  41.72  42.53  43.35  44.96   2585    1.0\n",
       "lambda[27]  42.54    0.02   1.21  40.21  41.72  42.53  43.35  44.96   2585    1.0\n",
       "lambda[28]  45.22    0.04   1.81  41.76  43.98   45.2  46.42  48.83   2268    1.0\n",
       "lambda[29]  42.18    0.03   1.24  39.82  41.35  42.16   43.0  44.61   2110    1.0\n",
       "lambda[30]  59.23    0.06   2.58  54.22   57.5  59.22  60.89  64.45   1737    1.0\n",
       "lambda[31]  51.96    0.06   2.48  47.21  50.26  51.94  53.56  57.17   1803    1.0\n",
       "lambda[32]  56.95    0.04   1.85  53.41  55.72  56.95  58.15  60.77   2142    1.0\n",
       "lambda[33]  55.81    0.04    1.7  52.46  54.66  55.79  56.95  59.21   2355    1.0\n",
       "lambda[34]  42.97    0.02   1.22  40.64  42.15  42.98  43.78   45.4   2764    1.0\n",
       "lambda[35]  43.29    0.02   1.25   40.9  42.44  43.28  44.14   45.8   2804    1.0\n",
       "lambda[36]  54.31    0.04   1.81  50.76  53.07  54.26  55.53  57.92   2215    1.0\n",
       "lambda[37]   42.0    0.03   1.26  39.58  41.16  41.97  42.82  44.48   2044    1.0\n",
       "lambda[38]  40.76    0.04   1.55  37.82  39.73  40.71  41.76  43.95   1708    1.0\n",
       "lambda[39]   40.7    0.04   1.57  37.73  39.66  40.66  41.71  43.94   1694    1.0\n",
       "lambda[40]  43.16    0.02   1.24  40.82  42.33  43.16  43.98  45.63   2797    1.0\n",
       "lambda[41]  43.41    0.02   1.27  40.99  42.54   43.4  44.28  45.95   2799    1.0\n",
       "lambda[42]  42.73    0.02   1.21  40.42   41.9  42.72  43.53  45.15   2681    1.0\n",
       "lambda[43]  44.37    0.03    1.5   41.5  43.35  44.34   45.4  47.33   2536    1.0\n",
       "lambda[44]  46.63    0.06   2.43  41.96  44.97  46.62  48.23  51.52   1870    1.0\n",
       "lambda[45]   41.7    0.03   1.31  39.17  40.83  41.67  42.56  44.32   1941    1.0\n",
       "lambda[46]  38.63    0.06   2.35  34.23  37.01  38.55  40.12  43.52   1470    1.0\n",
       "lambda[47]   44.5    0.03   1.54  41.54  43.45  44.47  45.54  47.58   2491    1.0\n",
       "lambda[48]  41.34    0.03   1.39  38.67  40.42  41.31  42.25  44.16   1835    1.0\n",
       "lambda[49]  53.84    0.04   1.91  50.12  52.54  53.81  55.14  57.68   2116    1.0\n",
       "M_pred[0]   39.68    0.11   6.59   28.0   35.0   39.0   44.0   54.0   3573    1.0\n",
       "M_pred[1]   57.33    0.12   7.89   42.0   52.0   57.0   62.0   74.0   4000    1.0\n",
       "M_pred[2]   43.13    0.11   6.67   31.0   38.0   43.0   48.0   57.0   4000    1.0\n",
       "M_pred[3]   52.97    0.12    7.5   39.0   48.0   53.0   58.0   68.0   4000    1.0\n",
       "M_pred[4]   58.57    0.13   7.92   44.0   53.0   58.0   64.0   75.0   3613    1.0\n",
       "M_pred[5]   43.34    0.11   6.72   31.0   39.0   43.0   48.0   57.0   3889    1.0\n",
       "M_pred[6]   41.93    0.11   6.63   29.0   37.0   42.0   46.0   55.0   3742    1.0\n",
       "M_pred[7]   57.61    0.13   7.91   42.4   52.0   58.0   63.0   74.0   3967    1.0\n",
       "M_pred[8]   44.33    0.11   6.82   31.0   40.0   44.0   49.0   58.0   3970    1.0\n",
       "M_pred[9]   44.29    0.11   6.79   32.0   40.0   44.0   49.0   58.0   3865    1.0\n",
       "M_pred[10]  57.24    0.13   7.74   43.0   52.0   57.0   62.0   73.0   3772    1.0\n",
       "M_pred[11]  43.67    0.11   6.82   31.0   39.0   44.0   48.0   58.0   4000    1.0\n",
       "M_pred[12]  55.32    0.12   7.63   41.0   50.0   55.0   60.0   71.0   3958    1.0\n",
       "M_pred[13]  41.96    0.11   6.62   30.0   37.0   42.0   46.0   56.0   3769    1.0\n",
       "M_pred[14]  41.92    0.11   6.48   30.0   37.0   42.0   46.0   55.0   3645    1.0\n",
       "M_pred[15]  53.92    0.12   7.64   40.0   49.0   54.0   59.0   69.0   3922    1.0\n",
       "M_pred[16]  42.02     0.1   6.51   30.0   38.0   42.0   46.0   56.0   3960    1.0\n",
       "M_pred[17]  40.48    0.11   6.55   28.0   36.0   40.0   45.0   54.0   3519    1.0\n",
       "M_pred[18]  46.95    0.12   7.27   33.0   42.0   47.0   52.0   61.0   3559    1.0\n",
       "M_pred[19]  58.48    0.13   8.07   43.0   53.0   58.0   64.0   75.0   3713    1.0\n",
       "M_pred[20]  52.74    0.13   7.57   38.0   48.0   53.0   58.0   68.0   3406    1.0\n",
       "M_pred[21]  54.53    0.12   7.52   40.0   50.0   54.0   60.0   70.0   4000    1.0\n",
       "M_pred[22]  54.45    0.12   7.53   40.0   50.0   54.0   59.0   69.0   4000    1.0\n",
       "M_pred[23]  57.19    0.12   7.73   43.0   52.0   57.0   62.0   73.0   4000    1.0\n",
       "M_pred[24]  55.25    0.13   7.69   40.0   50.0   55.0   60.0   71.0   3616    1.0\n",
       "M_pred[25]  55.99    0.12   7.61   42.0   51.0   56.0   61.0   72.0   3862    1.0\n",
       "M_pred[26]  42.53    0.11   6.68   30.0   38.0   42.0   47.0   56.0   3787    1.0\n",
       "M_pred[27]  42.54    0.11   6.63   30.0   38.0   42.0   47.0   56.0   3939    1.0\n",
       "M_pred[28]  45.33    0.12   7.03   32.0   41.0   45.0   50.0   60.0   3732    1.0\n",
       "M_pred[29]  41.95    0.11   6.65   30.0   37.0   42.0   46.0   56.0   4000    1.0\n",
       "M_pred[30]  59.28    0.13   7.94   44.0   54.0   59.0   65.0   75.0   3818    1.0\n",
       "M_pred[31]  52.04    0.13   7.71   37.0   47.0   52.0   57.0   67.0   3632    1.0\n",
       "M_pred[32]  56.84    0.12   7.59   43.0   52.0   57.0   62.0   72.0   3711    1.0\n",
       "M_pred[33]  55.71    0.12   7.69   41.0   50.0   56.0   61.0   72.0   4000    1.0\n",
       "M_pred[34]  43.06    0.11   6.64   31.0   39.0   43.0   47.0  56.59   3770    1.0\n",
       "M_pred[35]  43.15    0.11   6.64   31.0   39.0   43.0   47.0   57.0   3655    1.0\n",
       "M_pred[36]  54.41    0.12   7.53   40.0   49.0   54.0   59.0   69.0   3711    1.0\n",
       "M_pred[37]  41.95    0.11   6.62   30.0   37.0   42.0   46.0   56.0   3871    1.0\n",
       "M_pred[38]  40.72    0.11   6.54   28.0   36.0   41.0   45.0   54.0   3815    1.0\n",
       "M_pred[39]  40.63     0.1   6.49   28.0   36.0   41.0   45.0   54.0   4000    1.0\n",
       "M_pred[40]   43.1     0.1   6.61   31.0   39.0   43.0   48.0   57.0   4000    1.0\n",
       "M_pred[41]  43.34    0.11   6.69   31.0   39.0   43.0   48.0   57.0   4000    1.0\n",
       "M_pred[42]  42.68    0.11   6.58   30.0   38.0   43.0   47.0   56.0   3831    1.0\n",
       "M_pred[43]  44.43    0.11   6.83   31.0   40.0   44.0   49.0   58.0   3879    1.0\n",
       "M_pred[44]   46.6    0.12   7.17   33.0   42.0   46.0   51.0   61.0   3463    1.0\n",
       "M_pred[45]  41.61     0.1   6.48   29.0   37.0   41.5   46.0   55.0   3892    1.0\n",
       "M_pred[46]  38.77    0.12   6.53   27.0   34.0   38.0   43.0   52.0   2862    1.0\n",
       "M_pred[47]  44.49    0.11   6.86   31.0   40.0   44.0   49.0  58.59   3840    1.0\n",
       "M_pred[48]  41.46    0.11   6.56   29.0   37.0   41.0   46.0   54.0   3800    1.0\n",
       "M_pred[49]  53.92    0.12   7.49   40.0   49.0   54.0   59.0   69.0   3732    1.0\n",
       "lp__       6896.5    0.04   1.28 6893.1 6895.9 6896.8 6897.4 6897.9   1289    1.0\n",
       "\n",
       "Samples were drawn using NUTS at Thu May  3 14:09:37 2018.\n",
       "For each parameter, n_eff is a crude measure of effective sample size,\n",
       "and Rhat is the potential scale reduction factor on split chains (at \n",
       "convergence, Rhat=1)."
      ]
     },
     "execution_count": 3,
     "metadata": {},
     "output_type": "execute_result"
    }
   ],
   "source": [
    "model_code=\"\"\"\n",
    "data {\n",
    "  int N;\n",
    "  int<lower=0, upper=1> A[N];\n",
    "  real<lower=0, upper=1> Score[N];\n",
    "  int<lower=0> M[N];\n",
    "}\n",
    "parameters {\n",
    "  real b1;\n",
    "  real b2;\n",
    "  real b3;\n",
    "}\n",
    "transformed parameters {\n",
    "  real lambda[N];\n",
    "  for (n in 1:N)\n",
    "    lambda[n] = exp(b1 + b2*A[n] + b3*Score[n]);\n",
    "}\n",
    "model {\n",
    "  for (n in 1:N)\n",
    "    M[n] ~ poisson(lambda[n]);\n",
    "}\n",
    "generated quantities {\n",
    "  int M_pred[N];\n",
    "  for (n in 1:N)\n",
    "    M_pred[n] = poisson_rng(lambda[n]);\n",
    "}\n",
    "\"\"\"\n",
    "\n",
    "from pystan import StanModel\n",
    "data = dict(N=df.shape[0], A=df.A, Score=df.Score/200, M=df.M)\n",
    "sm = StanModel(model_code=model_code)\n",
    "\n",
    "fit = sm.sampling(data=data, n_jobs=1, seed=123)\n",
    "fit"
   ]
  },
  {
   "cell_type": "markdown",
   "metadata": {},
   "source": [
    "# 実測値と予測値のプロット\n",
    "* 80% 予測区間"
   ]
  },
  {
   "cell_type": "code",
   "execution_count": 5,
   "metadata": {},
   "outputs": [],
   "source": [
    "ms = fit.extract()\n",
    "\n",
    "qua = np.percentile(ms['M_pred'], q=[20, 50, 80], axis=0)\n",
    "d_qua = pd.DataFrame(qua.T, \n",
    "                     columns=['p'+str(p) for p in [20, 50, 80]])\n",
    "df_pred = df.join(d_qua)"
   ]
  },
  {
   "cell_type": "code",
   "execution_count": 10,
   "metadata": {},
   "outputs": [
    {
     "data": {
      "image/png": "[encoded data removed]",
      "text/plain": [
       "<matplotlib.figure.Figure at 0xf43f048>"
      ]
     },
     "metadata": {},
     "output_type": "display_data"
    }
   ],
   "source": [
    "# 実測値と予測値の散布図\n",
    "fig = plt.figure()\n",
    "ax = fig.add_subplot(1,1,1)\n",
    "for a, df_sub in df_pred.groupby(by='A'):\n",
    "    ax.errorbar(x=df_sub.M, y=df_sub.p50, \n",
    "                yerr=[df_sub.p50-df_sub.p20, df_sub.p80-df_sub.p50],\n",
    "                fmt='o', ms=8, alpha=0.5, marker='o', label='A:'+str(a))\n",
    "ax.legend()\n",
    "ax.set_aspect('equal')\n",
    "ax.set_xlabel('Observed')\n",
    "ax.set_ylabel('Predicted')\n",
    "ax.plot([5, 90], [5, 90], ls=\"--\", c=\".3\", alpha=.5)\n",
    "\n",
    "plt.show()"
   ]
  }
 ],
 "metadata": {
  "kernelspec": {
   "display_name": "Python 3",
   "language": "python",
   "name": "python3"
  },
  "language_info": {
   "codemirror_mode": {
    "name": "ipython",
    "version": 3
   },
   "file_extension": ".py",
   "mimetype": "text/x-python",
   "name": "python",
   "nbconvert_exporter": "python",
   "pygments_lexer": "ipython3",
   "version": "3.6.0"
  }
 },
 "nbformat": 4,
 "nbformat_minor": 2
}
