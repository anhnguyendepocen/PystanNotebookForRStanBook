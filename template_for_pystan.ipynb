{
 "cells": [
  {
   "cell_type": "markdown",
   "metadata": {},
   "source": [
    "## インポート"
   ]
  },
  {
   "cell_type": "code",
   "execution_count": null,
   "metadata": {},
   "outputs": [],
   "source": [
    "import os\n",
    "import numpy as np\n",
    "import pandas as pd\n",
    "import matplotlib.pyplot as plt\n",
    "import seaborn as sns\n",
    "%matplotlib inline\n",
    "\n",
    "np.random.seed(1234)"
   ]
  },
  {
   "cell_type": "markdown",
   "metadata": {},
   "source": [
    "## データの読み込み"
   ]
  },
  {
   "cell_type": "code",
   "execution_count": null,
   "metadata": {},
   "outputs": [],
   "source": [
    "df = pd.read_csv('chap05/input/data-attendance-1.txt')\n",
    "df.head()"
   ]
  },
  {
   "cell_type": "markdown",
   "metadata": {},
   "source": [
    "## サンプルデータの散布図行列"
   ]
  },
  {
   "cell_type": "code",
   "execution_count": null,
   "metadata": {},
   "outputs": [],
   "source": [
    "class Dispatcher(object):\n",
    "    \n",
    "    def __init__(self, fontsize=20, alpha=0.6, cmap='RdBu', threshold=5):\n",
    "        self.fontsize = fontsize\n",
    "        self.alpha = alpha\n",
    "        self.cmap = plt.get_cmap(cmap)\n",
    " \n",
    "        # 離散値 / 連続値とみなす閾値\n",
    "        self.threshold = threshold\n",
    "        \n",
    "    def comb(self, x_series, y_series, label=None, color=None):\n",
    "        \"\"\" 下三角部分のプロット \"\"\"       \n",
    "\n",
    "        x_nunique = x_series.nunique()\n",
    "        y_nunique = y_series.nunique()\n",
    "\n",
    "        if x_nunique < self.threshold and y_nunique < self.threshold:\n",
    "            # 離散値 x 離散値のプロット\n",
    "            return self._dd_plot(x_series, y_series, label=label, color=color)\n",
    "        \n",
    "        elif x_nunique < self.threshold or y_nunique < self.threshold:\n",
    "            # 離散値 x 連続値のプロット\n",
    "             return self._dc_plot(x_series, y_series, label=label, color=color)\n",
    "            \n",
    "        else:\n",
    "            # 連続値 x 連続値のプロット\n",
    "            return plt.scatter(x_series, y_series, label=label, color=color)\n",
    "\n",
    "    def _dd_plot(self, x_series, y_series, label=None, color=None):\n",
    "        \"\"\" 離散値 x 離散値のプロット \"\"\"\n",
    "\n",
    "        # x, y 各組み合わせの個数を集計\n",
    "        total = y_series.groupby([x_series, y_series]).count()\n",
    "\n",
    "        # x, y軸をプロットする位置を取得\n",
    "        xloc = total.index.labels[0] \n",
    "        yloc = total.index.labels[1] \n",
    "        values = total.values\n",
    "\n",
    "        ax = plt.gca()\n",
    "        for xp, yp, vp in zip(xloc, yloc, values):\n",
    "            ax.annotate(vp, (xp, yp), fontsize=self.fontsize,\n",
    "                        ha='center', va='center')\n",
    "\n",
    "        # 組み合わせの個数を散布図としてプロット\n",
    "        size = values / (values.max() * 1.1) * 100 * 20\n",
    "        ax.scatter(xloc, yloc, s=size, label=label, color=color)\n",
    "        ax.set_ylim(yloc[0] - 0.5, yloc[-1] + 0.5)\n",
    "        \n",
    "    def _dc_plot(self, x_series, y_series, label=None, color=None):\n",
    "        \"\"\" 離散値 x 連続値のプロット \"\"\"\n",
    "\n",
    "        if y_series.nunique() < x_series.nunique():\n",
    "            # y軸が離散値の場合は、x, yを入替\n",
    "            # 水平方向に箱ひげ図をプロット\n",
    "            x_series, y_series = y_series, x_series\n",
    "            vert = False\n",
    "        else:\n",
    "            vert = True\n",
    "\n",
    "        xlab, xun = pd.factorize(x_series)\n",
    "\n",
    "        # 箱ひげ図用のデータの準備\n",
    "        data = []\n",
    "        for i, g in y_series.groupby(xlab):\n",
    "            data.append(g) \n",
    "            \n",
    "        ax = plt.gca()\n",
    "        ax.boxplot(data, positions=np.arange(len(data)), vert=vert)\n",
    "\n",
    "        # 散布図をプロット\n",
    "        xloc = xlab + np.random.normal(scale=0.05, size=len(xlab))\n",
    "        if not vert:\n",
    "            y_series, xloc = xloc, y_series\n",
    "\n",
    "        ax.scatter(xloc, y_series, label=label, color=color,\n",
    "                   alpha=self.alpha)\n",
    "   \n",
    "    def diag(self, series, label=None, color=None):\n",
    "        \"\"\" 対角部分のプロット \"\"\"\n",
    "\n",
    "        ax = series.plot.hist()\n",
    "        ax = series.plot.kde(grid=False, ax=ax.twinx())\n",
    "        ax.yaxis.set_visible(False)\n",
    "\n",
    "    def ellipse(self, x_series, y_series, label=None, color=None):\n",
    "        \"\"\" 上三角部分のプロット \"\"\"        \n",
    "\n",
    "        from matplotlib.patches import Ellipse\n",
    "        \n",
    "        # 相関係数を楕円としてプロット\n",
    "        r = x_series.corr(y_series)\n",
    "        c = self.cmap(0.5 * (r + 1))\n",
    "\n",
    "        ax = plt.gca()\n",
    "        ax.axis('off')\n",
    "        ax.add_artist(Ellipse(xy=[.5, .5], width=np.sqrt(1 + r), height=np.sqrt(1 - r),\n",
    "                              angle=45, facecolor=c, edgecolor='none', transform=ax.transAxes))\n",
    "        ax.text(.5, .5, '{:.0f}'.format(r * 100), fontsize=self.fontsize,\n",
    "                ha='center', va='center', transform=ax.transAxes)"
   ]
  },
  {
   "cell_type": "code",
   "execution_count": null,
   "metadata": {},
   "outputs": [],
   "source": [
    "g = sns.PairGrid(df, diag_sharey=False)\n",
    "\n",
    "d = Dispatcher()\n",
    "# 対角成分\n",
    "g.map_diag(d.diag)\n",
    "# 下三角成分\n",
    "g.map_lower(d.comb);\n",
    "# 上三角成分\n",
    "g.map_upper(d.ellipse);"
   ]
  },
  {
   "cell_type": "markdown",
   "metadata": {},
   "source": [
    "## モデル式の記述\n",
    "\n",
    "$\\mu[n] = \\beta_1 + \\beta_2 A[n] + \\beta_3 Score[n] $\n",
    "\n",
    "$Y[n]$ ~ $ Normal( \\mu[n], \\sigma )$"
   ]
  },
  {
   "cell_type": "markdown",
   "metadata": {},
   "source": [
    "## Stanでの実装"
   ]
  },
  {
   "cell_type": "code",
   "execution_count": null,
   "metadata": {},
   "outputs": [],
   "source": [
    "model_code=\"\"\"\n",
    "data {\n",
    "  int N;\n",
    "  int<lower=0, upper=1> A[N];\n",
    "  real<lower=0, upper=1> Score[N];\n",
    "  real<lower=0, upper=1> Y[N];\n",
    "}\n",
    "parameters {\n",
    "  real b1;\n",
    "  real b2;\n",
    "  real b3;\n",
    "  real<lower=0> sigma;\n",
    "}\n",
    "transformed parameters {\n",
    "  real mu[N];\n",
    "  for (n in 1:N)\n",
    "    mu[n] = b1 + b2*A[n] + b3*Score[n];\n",
    "}\n",
    "model {\n",
    "  for (n in 1:N)\n",
    "    Y[n] ~ normal(mu[n], sigma);\n",
    "}\n",
    "generated quantities {\n",
    "  real y_pred[N];\n",
    "  for (n in 1:N)\n",
    "    y_pred[n] = normal_rng(mu[n], sigma);\n",
    "}\n",
    "\"\"\"\n",
    "\n",
    "from pystan import StanModel\n",
    "data = dict(N=df.shape[0], A=df.A, Score=df.Score/200, Y=df.Y)\n",
    "sm = StanModel(model_code=model_code)\n",
    "\n",
    "fit = sm.sampling(data=data, n_jobs=1, seed=123)\n",
    "fit"
   ]
  },
  {
   "cell_type": "markdown",
   "metadata": {},
   "source": [
    "## traceplot"
   ]
  },
  {
   "cell_type": "code",
   "execution_count": null,
   "metadata": {},
   "outputs": [],
   "source": [
    "import math\n",
    "\n",
    "palette = sns.color_palette()\n",
    "ms = fit.extract(permuted=False, inc_warmup=True)\n",
    "iter_from = fit.sim['warmup']\n",
    "iter_range = np.arange(iter_from, ms.shape[0])\n",
    "paraname = fit.sim['fnames_oi'][:4] #b1, b2, b3, sigma\n",
    "paraname.append(fit.sim['fnames_oi'][-1]) # 'lp__' もtrace plot に追加\n",
    "paraname_key = [fit.sim['fnames_oi'].index(paran) for paran in paraname]\n",
    "\n",
    "gpp = 5 # 画像１枚あたりの縦方向のグラフ数 gpp:graph per page\n",
    "num_pages = math.ceil(len(paraname)/gpp)  # parameter 数をgppで割った数より大きい最少の整数=画像枚数\n",
    "\n",
    "for pg in range(num_pages):  # 1ページにgppx2のグラフをプロットする\n",
    "    plt.figure(figsize=(12,8))\n",
    "    for pos in range(gpp):\n",
    "        pi = pg*gpp + pos\n",
    "        if pi >= len(paraname): break\n",
    "        # trace plot\n",
    "        plt.subplot(gpp, 2, 2*pos+1)\n",
    "        plt.tight_layout()\n",
    "        [plt.plot(iter_range + 1, ms[iter_range,ci,paraname_key[pi]], color=palette[ci], label=ci, alpha=.7) for ci in range(ms.shape[1])]\n",
    "        \n",
    "        plt.title(paraname[pi])\n",
    "        # posterior distribution \n",
    "        plt.subplot(gpp, 2, 2*(pos+1))\n",
    "        plt.tight_layout()\n",
    "        [sns.kdeplot(ms[iter_range,ci,paraname_key[pi]], color=palette[ci], label=ci) for ci in range(ms.shape[1])]\n",
    "        plt.title(paraname[pi])\n",
    "        plt.legend()"
   ]
  },
  {
   "cell_type": "markdown",
   "metadata": {},
   "source": [
    "## 予測区間"
   ]
  },
  {
   "cell_type": "code",
   "execution_count": null,
   "metadata": {},
   "outputs": [],
   "source": [
    "ms = fit.extract()\n",
    "\n",
    "qua = np.percentile(ms['y_pred'], q=[2.5, 25, 50, 75, 97.5], axis=0)\n",
    "d_qua = pd.DataFrame(qua.T, \n",
    "                     columns=['p'+str(p) for p in [2.5, 25, 50, 75, 97.5]])\n",
    "df_pred = df.join(d_qua)"
   ]
  },
  {
   "cell_type": "code",
   "execution_count": null,
   "metadata": {},
   "outputs": [],
   "source": [
    "# 実測値と予測値の散布図\n",
    "fig = plt.figure()\n",
    "ax = fig.add_subplot(1,1,1)\n",
    "for a, df_sub in df_pred.groupby(by='A'):\n",
    "    ax.errorbar(x=df_sub.Y, y=df_sub.p50, \n",
    "                yerr=[df_sub.p50-df_sub.p25, df_sub.p75-df_sub.p50],\n",
    "                fmt='o', ms=8, alpha=0.5, marker='o', label='A:'+str(a))\n",
    "ax.legend()\n",
    "ax.set_aspect('equal')\n",
    "ax.set_xlabel('Observed')\n",
    "ax.set_ylabel('Predicted')\n",
    "ax.plot([-0.05, 0.55], [-0.05, 0.55], ls=\"--\", c=\".3\", alpha=.5)\n",
    "\n",
    "plt.show()"
   ]
  },
  {
   "cell_type": "markdown",
   "metadata": {},
   "source": [
    "## 推定されたノイズの分布"
   ]
  },
  {
   "cell_type": "code",
   "execution_count": null,
   "metadata": {},
   "outputs": [],
   "source": [
    "error = np.array(df.Y) - ms['mu']\n",
    "\n",
    "fig = plt.figure()\n",
    "for i in range(error.shape[1]):\n",
    "    sns.distplot(error[:,i], hist=False,\n",
    "                kde_kws={\"color\": \"k\", \"ls\": \"--\", \"alpha\":1/4})\n",
    "sns.distplot(error.mean(axis=0), hist=False, kde=False, rug=True, \n",
    "             rug_kws={\"color\":\"k\", \"alpha\":1/4})\n",
    "plt.show()\n",
    "\n",
    "fig = plt.figure()\n",
    "sns.distplot(error.flatten(),\n",
    "             hist_kws={\"alpha\":2/3},\n",
    "             kde_kws={\"color\": \"b\", \"ls\": \"-\", \"alpha\":1/2},\n",
    "             label='error')\n",
    "sns.distplot(np.random.normal(0, np.mean(ms['sigma']), 100000),\n",
    "             kde_kws={\"color\": \"k\", \"ls\": \"--\", \"alpha\":1/2},\n",
    "             hist=False, label='Normal Dist.')\n",
    "plt.legend()\n",
    "plt.show()"
   ]
  },
  {
   "cell_type": "markdown",
   "metadata": {},
   "source": [
    "## MCMC の散布図行列"
   ]
  },
  {
   "cell_type": "code",
   "execution_count": null,
   "metadata": {},
   "outputs": [],
   "source": [
    "df_mcmc = pd.DataFrame({'b1':ms['b1'], \n",
    "                      'b2':ms['b2'], \n",
    "                      'b3':ms['b3'],\n",
    "                      'sigma':ms['sigma'],\n",
    "                      'mu1':ms['mu'][:,0],\n",
    "                      'mu50':ms['mu'][:,49],\n",
    "                      'lp__':ms['lp__']},\n",
    "                      columns=['b1','b2','b3','sigma', 'mu1', 'mu50', 'lp__'])"
   ]
  },
  {
   "cell_type": "code",
   "execution_count": null,
   "metadata": {},
   "outputs": [],
   "source": [
    "sns.set(font_scale=1)\n",
    "g = sns.PairGrid(df_mcmc, diag_sharey=False)\n",
    "d = Dispatcher()\n",
    "# 対角成分\n",
    "g.map_diag(sns.distplot, kde=False)\n",
    "# 下三角成分\n",
    "g.map_lower(sns.kdeplot, cmap='Blues_d');\n",
    "# 上三角成分\n",
    "g.map_upper(d.ellipse);\n",
    "\n",
    "g.fig.subplots_adjust(wspace=0.05, hspace=0.05)"
   ]
  }
 ],
 "metadata": {
  "kernelspec": {
   "display_name": "Python 3",
   "language": "python",
   "name": "python3"
  },
  "language_info": {
   "codemirror_mode": {
    "name": "ipython",
    "version": 3
   },
   "file_extension": ".py",
   "mimetype": "text/x-python",
   "name": "python",
   "nbconvert_exporter": "python",
   "pygments_lexer": "ipython3",
   "version": "3.6.0"
  }
 },
 "nbformat": 4,
 "nbformat_minor": 2
}
