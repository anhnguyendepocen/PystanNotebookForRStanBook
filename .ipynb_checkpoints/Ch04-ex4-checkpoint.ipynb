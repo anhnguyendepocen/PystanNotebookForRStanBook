{
 "cells": [
  {
   "cell_type": "code",
   "execution_count": 1,
   "metadata": {},
   "outputs": [],
   "source": [
    "import pandas as pd\n",
    "import numpy as np\n",
    "import os\n",
    "\n",
    "import matplotlib.pyplot as plt\n",
    "import seaborn as sns\n",
    "%matplotlib inline"
   ]
  },
  {
   "cell_type": "code",
   "execution_count": 2,
   "metadata": {},
   "outputs": [],
   "source": [
    "np.random.seed(1234)"
   ]
  },
  {
   "cell_type": "code",
   "execution_count": 3,
   "metadata": {},
   "outputs": [],
   "source": [
    "N1 = 30\n",
    "N2 = 20\n",
    "Y1 = np.random.normal(size=N1, loc=0, scale=5)\n",
    "Y2 = np.random.normal(size=N2, loc=1, scale=4)"
   ]
  },
  {
   "cell_type": "markdown",
   "metadata": {},
   "source": [
    "## 分布の確認"
   ]
  },
  {
   "cell_type": "code",
   "execution_count": 19,
   "metadata": {},
   "outputs": [
    {
     "name": "stderr",
     "output_type": "stream",
     "text": [
      "C:\\Users\\eX\\Anaconda3\\lib\\site-packages\\seaborn\\categorical.py:454: FutureWarning: remove_na is deprecated and is a private function. Do not use.\n",
      "  box_data = remove_na(group_data)\n"
     ]
    },
    {
     "data": {
      "image/png": "[encoded data removed]",
      "text/plain": [
       "<matplotlib.figure.Figure at 0xe1ddc18>"
      ]
     },
     "metadata": {},
     "output_type": "display_data"
    }
   ],
   "source": [
    "sns.boxplot(y=np.r_[Y1,Y2], x=np.r_[[1]*N1, [2]*N2])\n",
    "plt.show()"
   ]
  },
  {
   "cell_type": "markdown",
   "metadata": {},
   "source": [
    "## モデル式の記述\n",
    "\n",
    "$Y1[n1]$ ~ $Normal(\\mu1, \\sigma)$\n",
    "\n",
    "$Y2[n2]$ ~ $Normal(\\mu2, \\sigma)$\n"
   ]
  },
  {
   "cell_type": "markdown",
   "metadata": {},
   "source": [
    "## Stanでの実装"
   ]
  },
  {
   "cell_type": "code",
   "execution_count": 5,
   "metadata": {},
   "outputs": [],
   "source": [
    "model_code = '''data {\n",
    "  int N1;\n",
    "  int N2;\n",
    "  real Y1[N1];\n",
    "  real Y2[N2];  \n",
    "}\n",
    "parameters {\n",
    "  real mu1;\n",
    "  real mu2;\n",
    "  real<lower=0> sigma;\n",
    "}\n",
    "model {\n",
    "  for (n1 in 1:N1)\n",
    "    Y1[n1] ~ normal(mu1, sigma);\n",
    "  for (n2 in 1:N2)\n",
    "    Y2[n2] ~ normal(mu2, sigma);\n",
    "}\n",
    "'''"
   ]
  },
  {
   "cell_type": "code",
   "execution_count": 6,
   "metadata": {},
   "outputs": [
    {
     "name": "stderr",
     "output_type": "stream",
     "text": [
      "INFO:pystan:COMPILING THE C++ CODE FOR MODEL anon_model_8d3dc4acd4719a0443ff05a8699070dc NOW.\n"
     ]
    }
   ],
   "source": [
    "from pystan import StanModel\n",
    "sm = StanModel(model_code=model_code)"
   ]
  },
  {
   "cell_type": "code",
   "execution_count": 7,
   "metadata": {},
   "outputs": [],
   "source": [
    "data = dict(N1=N1, N2=N2, Y1=Y1, Y2=Y2)\n",
    "fit = sm.sampling(data=data, n_jobs=1)"
   ]
  },
  {
   "cell_type": "markdown",
   "metadata": {},
   "source": [
    "## Prob [mu1 < mu2] の計算"
   ]
  },
  {
   "cell_type": "code",
   "execution_count": 8,
   "metadata": {},
   "outputs": [
    {
     "data": {
      "text/html": [
       "<div>\n",
       "<style scoped>\n",
       "    .dataframe tbody tr th:only-of-type {\n",
       "        vertical-align: middle;\n",
       "    }\n",
       "\n",
       "    .dataframe tbody tr th {\n",
       "        vertical-align: top;\n",
       "    }\n",
       "\n",
       "    .dataframe thead th {\n",
       "        text-align: right;\n",
       "    }\n",
       "</style>\n",
       "<table border=\"1\" class=\"dataframe\">\n",
       "  <thead>\n",
       "    <tr style=\"text-align: right;\">\n",
       "      <th></th>\n",
       "      <th>mu1</th>\n",
       "      <th>mu2</th>\n",
       "      <th>sigma</th>\n",
       "    </tr>\n",
       "  </thead>\n",
       "  <tbody>\n",
       "    <tr>\n",
       "      <th>0</th>\n",
       "      <td>1.330878</td>\n",
       "      <td>0.187561</td>\n",
       "      <td>4.280048</td>\n",
       "    </tr>\n",
       "    <tr>\n",
       "      <th>1</th>\n",
       "      <td>-0.638697</td>\n",
       "      <td>2.305654</td>\n",
       "      <td>5.231520</td>\n",
       "    </tr>\n",
       "    <tr>\n",
       "      <th>2</th>\n",
       "      <td>-1.342228</td>\n",
       "      <td>3.285683</td>\n",
       "      <td>4.167137</td>\n",
       "    </tr>\n",
       "    <tr>\n",
       "      <th>3</th>\n",
       "      <td>-0.454690</td>\n",
       "      <td>0.783607</td>\n",
       "      <td>4.520935</td>\n",
       "    </tr>\n",
       "    <tr>\n",
       "      <th>4</th>\n",
       "      <td>0.070147</td>\n",
       "      <td>1.341790</td>\n",
       "      <td>3.896761</td>\n",
       "    </tr>\n",
       "  </tbody>\n",
       "</table>\n",
       "</div>"
      ],
      "text/plain": [
       "        mu1       mu2     sigma\n",
       "0  1.330878  0.187561  4.280048\n",
       "1 -0.638697  2.305654  5.231520\n",
       "2 -1.342228  3.285683  4.167137\n",
       "3 -0.454690  0.783607  4.520935\n",
       "4  0.070147  1.341790  3.896761"
      ]
     },
     "execution_count": 8,
     "metadata": {},
     "output_type": "execute_result"
    }
   ],
   "source": [
    "ms = fit.extract()\n",
    "d_mcmc = pd.DataFrame(data=dict(mu1=ms['mu1'], mu2=ms['mu2'], sigma=ms['sigma']))\n",
    "d_mcmc.head()"
   ]
  },
  {
   "cell_type": "code",
   "execution_count": 9,
   "metadata": {
    "scrolled": true
   },
   "outputs": [
    {
     "name": "stdout",
     "output_type": "stream",
     "text": [
      "Prob[mu1<mu2]: 88.97500000000001%\n"
     ]
    }
   ],
   "source": [
    "d_mcmc['mu1<mu2'] = d_mcmc.mu1 <  d_mcmc.mu2\n",
    "p = d_mcmc['mu1<mu2'].sum() / len(d_mcmc['mu1<mu2']) \n",
    "print('Prob[mu1<mu2]: {}%'.format(p*100))"
   ]
  },
  {
   "cell_type": "code",
   "execution_count": 18,
   "metadata": {},
   "outputs": [
    {
     "data": {
      "image/png": "[encoded data removed]",
      "text/plain": [
       "<matplotlib.figure.Figure at 0xc039ef0>"
      ]
     },
     "metadata": {},
     "output_type": "display_data"
    }
   ],
   "source": [
    "sns.distplot(d_mcmc.mu1, label='mu1')\n",
    "sns.distplot(d_mcmc.mu2, label='mu2')\n",
    "plt.legend()\n",
    "plt.show()"
   ]
  },
  {
   "cell_type": "markdown",
   "metadata": {},
   "source": [
    "## 標準偏差が異なるとした場合のProb [mu1 < mu2] の計算"
   ]
  },
  {
   "cell_type": "markdown",
   "metadata": {},
   "source": [
    "$Y1[n1]$ ~ $Normal(\\mu1, \\sigma1)$\n",
    "\n",
    "$Y2[n2]$ ~ $Normal(\\mu2, \\sigma2)$\n"
   ]
  },
  {
   "cell_type": "code",
   "execution_count": 11,
   "metadata": {},
   "outputs": [],
   "source": [
    "model_code = '''data {\n",
    "  int N1;\n",
    "  int N2;\n",
    "  real Y1[N1];\n",
    "  real Y2[N2];  \n",
    "}\n",
    "parameters {\n",
    "  real mu1;\n",
    "  real mu2;\n",
    "  real<lower=0> sigma1;\n",
    "  real<lower=0> sigma2;\n",
    "}\n",
    "model {\n",
    "  for (n1 in 1:N1)\n",
    "    Y1[n1] ~ normal(mu1, sigma1);\n",
    "  for (n2 in 1:N2)\n",
    "    Y2[n2] ~ normal(mu2, sigma2);\n",
    "}\n",
    "'''"
   ]
  },
  {
   "cell_type": "code",
   "execution_count": 12,
   "metadata": {},
   "outputs": [
    {
     "name": "stderr",
     "output_type": "stream",
     "text": [
      "INFO:pystan:COMPILING THE C++ CODE FOR MODEL anon_model_f6b5cbe1bf54fb1dcdaa1cf320c8978d NOW.\n"
     ]
    }
   ],
   "source": [
    "from pystan import StanModel\n",
    "sm = StanModel(model_code=model_code)"
   ]
  },
  {
   "cell_type": "code",
   "execution_count": 13,
   "metadata": {},
   "outputs": [],
   "source": [
    "data = dict(N1=N1, N2=N2, Y1=Y1, Y2=Y2)\n",
    "fit = sm.sampling(data=data, n_jobs=1)"
   ]
  },
  {
   "cell_type": "code",
   "execution_count": 14,
   "metadata": {},
   "outputs": [
    {
     "data": {
      "text/html": [
       "<div>\n",
       "<style scoped>\n",
       "    .dataframe tbody tr th:only-of-type {\n",
       "        vertical-align: middle;\n",
       "    }\n",
       "\n",
       "    .dataframe tbody tr th {\n",
       "        vertical-align: top;\n",
       "    }\n",
       "\n",
       "    .dataframe thead th {\n",
       "        text-align: right;\n",
       "    }\n",
       "</style>\n",
       "<table border=\"1\" class=\"dataframe\">\n",
       "  <thead>\n",
       "    <tr style=\"text-align: right;\">\n",
       "      <th></th>\n",
       "      <th>mu1</th>\n",
       "      <th>mu2</th>\n",
       "      <th>sigma1</th>\n",
       "      <th>sigma2</th>\n",
       "    </tr>\n",
       "  </thead>\n",
       "  <tbody>\n",
       "    <tr>\n",
       "      <th>0</th>\n",
       "      <td>-1.221018</td>\n",
       "      <td>2.361983</td>\n",
       "      <td>7.285081</td>\n",
       "      <td>4.176865</td>\n",
       "    </tr>\n",
       "    <tr>\n",
       "      <th>1</th>\n",
       "      <td>1.228805</td>\n",
       "      <td>1.912950</td>\n",
       "      <td>6.151411</td>\n",
       "      <td>3.829901</td>\n",
       "    </tr>\n",
       "    <tr>\n",
       "      <th>2</th>\n",
       "      <td>-1.407711</td>\n",
       "      <td>0.128562</td>\n",
       "      <td>6.528061</td>\n",
       "      <td>3.689897</td>\n",
       "    </tr>\n",
       "    <tr>\n",
       "      <th>3</th>\n",
       "      <td>-1.294426</td>\n",
       "      <td>2.804782</td>\n",
       "      <td>4.273018</td>\n",
       "      <td>3.722754</td>\n",
       "    </tr>\n",
       "    <tr>\n",
       "      <th>4</th>\n",
       "      <td>1.354862</td>\n",
       "      <td>2.701796</td>\n",
       "      <td>8.359921</td>\n",
       "      <td>4.207094</td>\n",
       "    </tr>\n",
       "  </tbody>\n",
       "</table>\n",
       "</div>"
      ],
      "text/plain": [
       "        mu1       mu2    sigma1    sigma2\n",
       "0 -1.221018  2.361983  7.285081  4.176865\n",
       "1  1.228805  1.912950  6.151411  3.829901\n",
       "2 -1.407711  0.128562  6.528061  3.689897\n",
       "3 -1.294426  2.804782  4.273018  3.722754\n",
       "4  1.354862  2.701796  8.359921  4.207094"
      ]
     },
     "execution_count": 14,
     "metadata": {},
     "output_type": "execute_result"
    }
   ],
   "source": [
    "ms = fit.extract()\n",
    "d_mcmc = pd.DataFrame(data=dict(mu1=ms['mu1'], mu2=ms['mu2'], sigma1=ms['sigma1'],sigma2=ms['sigma2']))\n",
    "d_mcmc.head()"
   ]
  },
  {
   "cell_type": "code",
   "execution_count": 15,
   "metadata": {
    "scrolled": true
   },
   "outputs": [
    {
     "name": "stdout",
     "output_type": "stream",
     "text": [
      "Prob[mu1<mu2]: 89.425%\n"
     ]
    }
   ],
   "source": [
    "d_mcmc['mu1<mu2'] = d_mcmc.mu1 <  d_mcmc.mu2\n",
    "p = d_mcmc['mu1<mu2'].sum() / len(d_mcmc['mu1<mu2']) \n",
    "print('Prob[mu1<mu2]: {}%'.format(p*100))"
   ]
  },
  {
   "cell_type": "code",
   "execution_count": 17,
   "metadata": {},
   "outputs": [
    {
     "data": {
      "image/png": "[encoded data removed]",
      "text/plain": [
       "<matplotlib.figure.Figure at 0xc20df60>"
      ]
     },
     "metadata": {},
     "output_type": "display_data"
    }
   ],
   "source": [
    "sns.distplot(d_mcmc.mu1, label='mu1')\n",
    "sns.distplot(d_mcmc.mu2, label='mu2')\n",
    "plt.legend()\n",
    "plt.show()"
   ]
  }
 ],
 "metadata": {
  "hide_input": false,
  "kernelspec": {
   "display_name": "Python 3",
   "language": "python",
   "name": "python3"
  },
  "language_info": {
   "codemirror_mode": {
    "name": "ipython",
    "version": 3
   },
   "file_extension": ".py",
   "mimetype": "text/x-python",
   "name": "python",
   "nbconvert_exporter": "python",
   "pygments_lexer": "ipython3",
   "version": "3.6.0"
  },
  "toc": {
   "nav_menu": {},
   "number_sections": true,
   "sideBar": true,
   "skip_h1_title": false,
   "title_cell": "Table of Contents",
   "title_sidebar": "Contents",
   "toc_cell": false,
   "toc_position": {},
   "toc_section_display": true,
   "toc_window_display": false
  }
 },
 "nbformat": 4,
 "nbformat_minor": 2
}
