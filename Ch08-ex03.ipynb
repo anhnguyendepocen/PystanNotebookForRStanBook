{
 "cells": [
  {
   "cell_type": "markdown",
   "metadata": {},
   "source": [
    "## インポート"
   ]
  },
  {
   "cell_type": "code",
   "execution_count": 1,
   "metadata": {},
   "outputs": [],
   "source": [
    "import os\n",
    "import numpy as np\n",
    "import pandas as pd\n",
    "import matplotlib.pyplot as plt\n",
    "import seaborn as sns\n",
    "%matplotlib inline\n",
    "\n",
    "np.random.seed(1234)"
   ]
  },
  {
   "cell_type": "markdown",
   "metadata": {},
   "source": [
    "## データの読み込み"
   ]
  },
  {
   "cell_type": "code",
   "execution_count": 2,
   "metadata": {},
   "outputs": [
    {
     "data": {
      "text/html": [
       "<div>\n",
       "<style scoped>\n",
       "    .dataframe tbody tr th:only-of-type {\n",
       "        vertical-align: middle;\n",
       "    }\n",
       "\n",
       "    .dataframe tbody tr th {\n",
       "        vertical-align: top;\n",
       "    }\n",
       "\n",
       "    .dataframe thead th {\n",
       "        text-align: right;\n",
       "    }\n",
       "</style>\n",
       "<table border=\"1\" class=\"dataframe\">\n",
       "  <thead>\n",
       "    <tr style=\"text-align: right;\">\n",
       "      <th></th>\n",
       "      <th>X</th>\n",
       "      <th>Y</th>\n",
       "      <th>KID</th>\n",
       "      <th>GID</th>\n",
       "    </tr>\n",
       "  </thead>\n",
       "  <tbody>\n",
       "    <tr>\n",
       "      <th>0</th>\n",
       "      <td>7</td>\n",
       "      <td>457</td>\n",
       "      <td>1</td>\n",
       "      <td>1</td>\n",
       "    </tr>\n",
       "    <tr>\n",
       "      <th>1</th>\n",
       "      <td>10</td>\n",
       "      <td>482</td>\n",
       "      <td>1</td>\n",
       "      <td>1</td>\n",
       "    </tr>\n",
       "    <tr>\n",
       "      <th>2</th>\n",
       "      <td>16</td>\n",
       "      <td>518</td>\n",
       "      <td>1</td>\n",
       "      <td>1</td>\n",
       "    </tr>\n",
       "    <tr>\n",
       "      <th>3</th>\n",
       "      <td>25</td>\n",
       "      <td>535</td>\n",
       "      <td>1</td>\n",
       "      <td>1</td>\n",
       "    </tr>\n",
       "    <tr>\n",
       "      <th>4</th>\n",
       "      <td>5</td>\n",
       "      <td>427</td>\n",
       "      <td>1</td>\n",
       "      <td>1</td>\n",
       "    </tr>\n",
       "  </tbody>\n",
       "</table>\n",
       "</div>"
      ],
      "text/plain": [
       "    X    Y  KID  GID\n",
       "0   7  457    1    1\n",
       "1  10  482    1    1\n",
       "2  16  518    1    1\n",
       "3  25  535    1    1\n",
       "4   5  427    1    1"
      ]
     },
     "execution_count": 2,
     "metadata": {},
     "output_type": "execute_result"
    }
   ],
   "source": [
    "df = pd.read_csv('chap08/input/data-salary-3.txt')\n",
    "df.head()"
   ]
  },
  {
   "cell_type": "markdown",
   "metadata": {},
   "source": [
    "## メカニズム１：a, b の平均は業界によって異なるが、a, b のバラツキは業界を問わず一定とする\n",
    "\n",
    "$ a_{avg}[g] $ ~ $ Normal(a_{avg\\_all}, \\sigma_{ag}) $\n",
    "\n",
    "$ b_{avg}[g] $ ~ $ Normal(b_{avg\\_all}, \\sigma_{bg}) $\n",
    "\n",
    "$a[k]$ ~ $ Normal(a_{avg}[GID[g]], \\sigma_a)$\n",
    "\n",
    "$b[k]$ ~ $ Normal(b_{avg}[GID[g]], \\sigma_b)$\n",
    "\n",
    "$Y[n]$ ~ $ Normal( a[KID[n]] + b[KID[n]] X[n], \\sigma_y )$\n",
    "\n",
    "$g = 1, ..., G$\n",
    "\n",
    "$k = 1, ..., K$\n",
    "\n",
    "$n = 1, ..., N$"
   ]
  },
  {
   "cell_type": "code",
   "execution_count": 3,
   "metadata": {},
   "outputs": [
    {
     "name": "stderr",
     "output_type": "stream",
     "text": [
      "INFO:pystan:COMPILING THE C++ CODE FOR MODEL anon_model_b8866c67f9f8304959b334edb363f1c3 NOW.\n"
     ]
    },
    {
     "data": {
      "text/plain": [
       "Inference for Stan model: anon_model_b8866c67f9f8304959b334edb363f1c3.\n",
       "4 chains, each with iter=2000; warmup=1000; thin=1; \n",
       "post-warmup draws per chain=1000, total post-warmup draws=4000.\n",
       "\n",
       "           mean se_mean     sd   2.5%    25%    50%    75%  97.5%  n_eff   Rhat\n",
       "aavg_all 311.87   50.09 812.27 -788.2 289.52 384.53 473.78 1164.3    263   1.01\n",
       "bavg_all  20.59    4.37  83.74  -54.2  10.85  18.41  25.38 121.64    368    1.0\n",
       "aavg[0]  360.37     0.8  29.11 303.37  340.7 360.68 379.85 417.68   1334    1.0\n",
       "aavg[1]  298.73    0.48  14.13 270.15 289.67 298.86  307.8 326.66    880    1.0\n",
       "aavg[2]  498.78    1.05  28.75 441.66 479.56 498.98  518.1 554.61    747    1.0\n",
       "bavg[0]   13.09    0.06   2.74   7.68  11.25  13.02  14.93  18.59   2297    1.0\n",
       "bavg[1]    28.6    0.03   1.41  25.72  27.68  28.59   29.5  31.43   1814    1.0\n",
       "bavg[2]   12.53    0.07   2.47   7.67   10.9  12.59  14.14  17.39   1115    1.0\n",
       "a[0]     365.72    0.69   26.7 315.01  347.4 366.42 384.08 418.56   1507    1.0\n",
       "a[1]     357.98    0.76  29.04 298.99 338.62 357.93  377.3 414.93   1466    1.0\n",
       "a[2]     352.84    0.96  36.45 278.25 330.95 354.11 376.28 422.73   1439    1.0\n",
       "a[3]     364.96    0.97  39.59 288.17 339.22 364.17 389.91 445.51   1668    1.0\n",
       "a[4]     293.31    0.58  24.66 241.63 277.84 294.16  308.7 341.25   1826    1.0\n",
       "a[5]     327.02    1.58  33.96 273.07 302.84 322.25 347.14 407.72    464   1.01\n",
       "a[6]     308.48    0.61  20.44  271.5  293.9 307.44 321.72 351.95   1106    1.0\n",
       "a[7]     300.15    0.65  29.28  242.3 282.52 299.16 317.63 361.63   2003    1.0\n",
       "a[8]     287.07    0.67  26.08 230.18 272.05 288.83 304.47 334.24   1533    1.0\n",
       "a[9]     273.23    0.83  21.26 229.61 260.02 274.53 288.09  312.0    655    1.0\n",
       "a[10]    297.79    0.69  28.86 238.75 281.15 297.75 314.39 358.82   1732    1.0\n",
       "a[11]    294.72    0.58  25.51 240.67 279.31 294.45 310.25  346.8   1903    1.0\n",
       "a[12]    320.42    1.04  27.52 274.38 300.45 317.41  337.5 381.84    700    1.0\n",
       "a[13]    289.09    0.49  20.53 246.03 276.17 290.17 302.44 327.34   1791    1.0\n",
       "a[14]    295.28    0.57  25.35 245.71 280.26 295.74 310.91 345.63   1970    1.0\n",
       "a[15]    292.58    0.69  28.74  231.3  275.5 293.77 310.51 347.62   1758    1.0\n",
       "a[16]    295.57    0.62  26.67 238.97 279.42 296.12 312.33 348.13   1843    1.0\n",
       "a[17]    304.15    0.69  28.43 249.37 286.46 303.24 321.19 365.57   1718    1.0\n",
       "a[18]    277.03    1.18  32.91 199.41 259.11 281.65 299.03 330.32    773    1.0\n",
       "a[19]    305.11    0.65  26.01 255.66 288.31 303.26 321.25 360.86   1583    1.0\n",
       "a[20]    290.08    0.58  24.53 238.05 275.25 291.82 306.27 336.04   1773    1.0\n",
       "a[21]    323.18     1.3  27.16 277.17 303.36 320.71 340.25 382.31    434    1.0\n",
       "a[22]    498.83    1.06   35.6 425.67 475.35 498.96 521.29 569.86   1123    1.0\n",
       "a[23]    503.19    0.99   33.0 438.07 480.84 503.39  525.2 569.25   1113    1.0\n",
       "a[24]     505.7    1.01  33.39 442.68 483.04 505.74 527.12 573.56   1083    1.0\n",
       "a[25]     497.1     1.1  35.39 427.24 473.96 497.56 520.92 566.18   1032    1.0\n",
       "a[26]    500.22    1.02  33.04 433.36 478.51 500.71 522.37 563.24   1053    1.0\n",
       "a[27]    497.57    1.18  37.35 421.79 473.26 498.86 522.36 568.31    996    1.0\n",
       "a[28]    494.64     1.1  34.79 425.56 471.49 495.07 518.89 560.48    995    1.0\n",
       "a[29]    495.85    1.23  38.93 417.45 471.63 496.83 521.78 571.14   1007    1.0\n",
       "b[0]       8.87    0.04   1.75   5.51   7.68   8.87  10.02  12.24   1627    1.0\n",
       "b[1]      17.53    0.06   2.32  12.98  15.97  17.49   19.1  21.99   1663    1.0\n",
       "b[2]      10.71    0.05   1.98   6.87   9.41   10.7  11.92  14.84   1690    1.0\n",
       "b[3]      14.34    0.05   2.09  10.27  12.94  14.36  15.77  18.43   1885    1.0\n",
       "b[4]      33.17    0.05   2.09  29.07  31.81  33.12  34.56  37.53   1843    1.0\n",
       "b[5]      36.17    0.11   2.88  29.91  34.47  36.37  38.12  41.35    708    1.0\n",
       "b[6]      30.88    0.03   1.29  28.27  30.04  30.89  31.77  33.28   1771    1.0\n",
       "b[7]      25.22    0.04   1.73  21.76  24.09  25.25  26.34  28.64   1947    1.0\n",
       "b[8]      22.41    0.04   1.45  19.67  21.43  22.39  23.34  25.43   1565    1.0\n",
       "b[9]      29.09    0.06   1.79  25.74  27.86  29.02  30.29  32.79    835    1.0\n",
       "b[10]     32.53    0.04   1.74  29.01  31.39  32.54  33.64  35.96   1921    1.0\n",
       "b[11]     34.19    0.03   1.36  31.42  33.32  34.17  35.04  36.91   2317    1.0\n",
       "b[12]     28.81    0.07   2.27  24.19  27.35  28.89  30.33  33.14   1196    1.0\n",
       "b[13]      24.0    0.04    2.0  20.11  22.65  23.98  25.33  27.88   2301    1.0\n",
       "b[14]     33.77    0.06   2.79   28.5  31.89  33.68  35.52  39.43   2126    1.0\n",
       "b[15]     19.47    0.03   1.38  16.81  18.55  19.48  20.36  22.25   1962    1.0\n",
       "b[16]     28.21    0.03   1.37  25.56  27.27  28.21  29.14  30.91   2459    1.0\n",
       "b[17]      28.9    0.05   2.33   24.1  27.43  28.91  30.43  33.31   2031    1.0\n",
       "b[18]     20.82    0.07   2.35  16.67  19.25  20.63  22.25  25.93   1119    1.0\n",
       "b[19]      34.0    0.03   1.54   31.0  33.01  34.03  35.01  37.01   1935    1.0\n",
       "b[20]     26.59    0.05   2.45  21.74  24.98   26.5  28.21  31.46   2180    1.0\n",
       "b[21]      28.2    0.05   1.34  25.38  27.33  28.28  29.12  30.65    693    1.0\n",
       "b[22]      13.1    0.05   1.94   9.28  11.79  13.08  14.43  16.94   1731    1.0\n",
       "b[23]     13.87    0.06   2.08   9.77  12.51  13.88  15.29  17.95   1344    1.0\n",
       "b[24]     13.41    0.07   2.38   8.69  11.83  13.42  14.97  18.08   1308    1.0\n",
       "b[25]     11.92    0.09   3.29   5.54   9.77  11.89  14.14  18.34   1201    1.0\n",
       "b[26]     12.69    0.08   3.16   6.44  10.59  12.63  14.81  18.92   1483    1.0\n",
       "b[27]     11.72    0.08   2.79   6.41   9.86  11.65   13.6  17.19   1259    1.0\n",
       "b[28]     11.49    0.11   4.06   3.71   8.65   11.5   14.3  19.39   1462    1.0\n",
       "b[29]     11.46    0.06    2.1   7.13  10.07  11.44  12.86  15.56   1115    1.0\n",
       "s_ag     654.71  123.54 2254.4  62.87  128.7 222.64 482.16 3716.6    333   1.01\n",
       "s_bg      69.56   18.97 540.27   5.74   11.4  18.92  37.88 352.29    811   1.01\n",
       "s_a        25.8     0.9   12.3   5.27  16.74  24.91  33.63   51.8    185   1.01\n",
       "s_b        4.75    0.02   0.81   3.38   4.19   4.66   5.21   6.59   2587    1.0\n",
       "s_y       65.27    0.05   2.91  59.97  63.26  65.12  67.26  71.15   4000    1.0\n",
       "lp__      -1582    1.24  15.49  -1606  -1592  -1584  -1574  -1543    156   1.01\n",
       "\n",
       "Samples were drawn using NUTS at Fri May  4 14:58:34 2018.\n",
       "For each parameter, n_eff is a crude measure of effective sample size,\n",
       "and Rhat is the potential scale reduction factor on split chains (at \n",
       "convergence, Rhat=1)."
      ]
     },
     "execution_count": 3,
     "metadata": {},
     "output_type": "execute_result"
    }
   ],
   "source": [
    "model_code=\"\"\"\n",
    "data {\n",
    "  int G;\n",
    "  int K;\n",
    "  int N;\n",
    "  real<lower=0> X[N];\n",
    "  real<lower=0> Y[N];\n",
    "  int<lower=1,upper=G> K2G[K];\n",
    "  int<lower=1,upper=K> KID[N];\n",
    "}\n",
    "parameters {\n",
    "  real aavg_all;\n",
    "  real bavg_all;\n",
    "  real aavg[G];\n",
    "  real bavg[G];\n",
    "  real a[K];\n",
    "  real b[K];\n",
    "  real<lower=0> s_ag;\n",
    "  real<lower=0> s_bg;\n",
    "  real<lower=0> s_a;\n",
    "  real<lower=0> s_b;\n",
    "  real<lower=0> s_y;\n",
    "}\n",
    "model {\n",
    "  for (g in 1:G) {\n",
    "    aavg[g] ~ normal(aavg_all, s_ag);\n",
    "    bavg[g] ~ normal(bavg_all, s_bg);\n",
    "  }\n",
    "  for (k in 1:K) {\n",
    "    a[k] ~ normal(aavg[K2G[k]], s_a);\n",
    "    b[k] ~ normal(bavg[K2G[k]], s_b);  \n",
    "  }\n",
    "\n",
    "  for (n in 1:N)\n",
    "    Y[n] ~ normal(a[KID[n]]+b[KID[n]]*X[n], s_y);\n",
    "}\n",
    "\"\"\"\n",
    "\n",
    "from pystan import StanModel\n",
    "\n",
    "K2G = df[~df[['KID', 'GID']].duplicated()].GID\n",
    "data = dict(N=df.shape[0], G=df.GID.nunique(), K=df.KID.nunique(), X=df.X, K2G=K2G, KID=df.KID, Y=df.Y)\n",
    "sm = StanModel(model_code=model_code)\n",
    "\n",
    "fit = sm.sampling(data=data, n_jobs=1, seed=1234)\n",
    "fit"
   ]
  },
  {
   "cell_type": "markdown",
   "metadata": {},
   "source": [
    "## 業界平均 $a_{avg}[g]$ と $b_{avg}[g]$ の事後分布を作図する"
   ]
  },
  {
   "cell_type": "code",
   "execution_count": 29,
   "metadata": {},
   "outputs": [
    {
     "name": "stderr",
     "output_type": "stream",
     "text": [
      "C:\\Users\\eX\\Anaconda3\\lib\\site-packages\\seaborn\\categorical.py:588: FutureWarning: remove_na is deprecated and is a private function. Do not use.\n",
      "  kde_data = remove_na(group_data)\n",
      "C:\\Users\\eX\\Anaconda3\\lib\\site-packages\\seaborn\\categorical.py:816: FutureWarning: remove_na is deprecated and is a private function. Do not use.\n",
      "  violin_data = remove_na(group_data)\n"
     ]
    },
    {
     "data": {
      "image/png": "[encoded data removed]",
      "text/plain": [
       "<matplotlib.figure.Figure at 0xf76cac8>"
      ]
     },
     "metadata": {},
     "output_type": "display_data"
    }
   ],
   "source": [
    "ms = fit.extract()\n",
    "\n",
    "fig = plt.figure()\n",
    "ax=plt.subplot(121)\n",
    "plt.xlabel('GID')\n",
    "plt.ylabel('a_avg')\n",
    "sns.violinplot(data=ms['aavg'], color=sns.palettes.color_palette()[0])\n",
    "\n",
    "\n",
    "ax=plt.subplot(122)\n",
    "sns.violinplot(data=ms['bavg'], color=sns.palettes.color_palette()[0])\n",
    "plt.xlabel('GID')\n",
    "plt.ylabel('b_avg')\n",
    "\n",
    "plt.show()"
   ]
  }
 ],
 "metadata": {
  "kernelspec": {
   "display_name": "Python 3",
   "language": "python",
   "name": "python3"
  },
  "language_info": {
   "codemirror_mode": {
    "name": "ipython",
    "version": 3
   },
   "file_extension": ".py",
   "mimetype": "text/x-python",
   "name": "python",
   "nbconvert_exporter": "python",
   "pygments_lexer": "ipython3",
   "version": "3.6.0"
  }
 },
 "nbformat": 4,
 "nbformat_minor": 2
}
